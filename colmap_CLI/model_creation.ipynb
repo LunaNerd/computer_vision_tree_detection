{
 "cells": [
  {
   "cell_type": "markdown",
   "metadata": {},
   "source": [
    "# Model Creation from CLI"
   ]
  },
  {
   "cell_type": "markdown",
   "metadata": {},
   "source": [
    "README: \n",
    "Not everything has been tested yet.  \n",
    "ToDo: Add more explanation"
   ]
  },
  {
   "cell_type": "markdown",
   "metadata": {},
   "source": [
    "## Installation"
   ]
  },
  {
   "cell_type": "markdown",
   "metadata": {
    "jp-MarkdownHeadingCollapsed": true
   },
   "source": [
    "#### (General outline) (Don't need to read if on jupyterhub)"
   ]
  },
  {
   "cell_type": "markdown",
   "metadata": {},
   "source": [
    "1. Install colmap\n",
    "    - If on jupyterhub: follow steps on this page: https://colmap.github.io/install.html#linux\n",
    "    - If on windows: download most recent version on this page: https://github.com/colmap/colmap/releases\n",
    "        - select COLMAP-3.9.1-windows-cuda.zip or COLMAP-3.9.1-windows-no-cuda.zip depending on GPU (nvidea works best with CUDA)\n",
    "\n",
    "1. (if on windows) Add system variable:\n",
    "    - https://www.java.com/en/download/help/path.html\n",
    "    - add directory in colmap that contains the COLMAP.bat file\n",
    "\n",
    "1. (if on jupyterhub) ??? ToDo\n"
   ]
  },
  {
   "cell_type": "markdown",
   "metadata": {},
   "source": [
    "#### Copy paste for jupyterhub (tested and works)\n",
    "\n",
    "(request multiple CPU's, speeds up compile process immensely)  \n",
    "Just copy and paste these commands and excecute in the directory where this notebook is located (/project_ghent/something/something/Computervisie-g10/colmap_CLI)"
   ]
  },
  {
   "cell_type": "code",
   "execution_count": null,
   "metadata": {
    "scrolled": true
   },
   "outputs": [],
   "source": [
    "sudo apt-get update\n",
    "\n",
    "sudo apt-get install \\\n",
    "    git \\\n",
    "    cmake \\\n",
    "    ninja-build \\\n",
    "    build-essential \\\n",
    "    libboost-program-options-dev \\\n",
    "    libboost-filesystem-dev \\\n",
    "    libboost-graph-dev \\\n",
    "    libboost-system-dev \\\n",
    "    libeigen3-dev \\\n",
    "    libflann-dev \\\n",
    "    libfreeimage-dev \\\n",
    "    libmetis-dev \\\n",
    "    libgoogle-glog-dev \\\n",
    "    libgtest-dev \\\n",
    "    libsqlite3-dev \\\n",
    "    libglew-dev \\\n",
    "    qtbase5-dev \\\n",
    "    libqt5opengl5-dev \\\n",
    "    libcgal-dev \\\n",
    "    libceres-dev"
   ]
  },
  {
   "cell_type": "code",
   "execution_count": null,
   "metadata": {},
   "outputs": [],
   "source": [
    "nvidia-smi --query-gpu=compute_cap --format=csv\n",
    "\n",
    "# use output of this command in when doing cmake\n",
    "# eg if output is:\n",
    "#     computecap\n",
    "#     6.1\n",
    "# Then insert 61 in the next command\n",
    "# If other result, change accordingly\n",
    "# https://github.com/colmap/colmap/issues/2464"
   ]
  },
  {
   "cell_type": "code",
   "execution_count": null,
   "metadata": {},
   "outputs": [],
   "source": [
    "sudo apt-get install gcc-10 g++-10\n",
    "export CC=/usr/bin/gcc-10\n",
    "export CXX=/usr/bin/g++-10\n",
    "export CUDAHOSTCXX=/usr/bin/g++-10"
   ]
  },
  {
   "cell_type": "code",
   "execution_count": null,
   "metadata": {},
   "outputs": [],
   "source": [
    "#Don't execute\n",
    "\"\"\"sudo apt-get install -y \\\n",
    "    nvidia-cuda-toolkit \\\n",
    "    nvidia-cuda-toolkit-gcc\"\"\""
   ]
  },
  {
   "cell_type": "code",
   "execution_count": null,
   "metadata": {},
   "outputs": [],
   "source": [
    "#Don't execute\n",
    "#sudo cp /opt/conda/lib/libglog.so.2 /usr/lib/x86_64-linux-gnu/libglog.so.2"
   ]
  },
  {
   "cell_type": "code",
   "execution_count": null,
   "metadata": {},
   "outputs": [],
   "source": [
    "git clone https://github.com/colmap/colmap.git\n",
    "cd colmap\n",
    "mkdir build\n",
    "cd build\n",
    "cmake .. -GNinja -DCMAKE_CUDA_ARCHITECTURES=61\n",
    "ninja\n",
    "sudo ninja install\n",
    "\n",
    "# Takes a long time to run"
   ]
  },
  {
   "cell_type": "code",
   "execution_count": 1,
   "metadata": {},
   "outputs": [
    {
     "name": "stdout",
     "output_type": "stream",
     "text": [
      "/bin/bash: line 1: colmap: command not found\n"
     ]
    }
   ],
   "source": [
    "!colmap --help\n",
    "\n",
    "# should return a list of available commands if everything installed correctly"
   ]
  },
  {
   "cell_type": "markdown",
   "metadata": {},
   "source": [
    "## Creating models"
   ]
  },
  {
   "cell_type": "code",
   "execution_count": null,
   "metadata": {},
   "outputs": [],
   "source": [
    "## Path config here\n",
    "\n",
    "workspace=../assets/workspace_test\n",
    "input_imgs=../assets/undistorted_05_short "
   ]
  },
  {
   "cell_type": "markdown",
   "metadata": {},
   "source": [
    "### Create sparse model"
   ]
  },
  {
   "cell_type": "markdown",
   "metadata": {},
   "source": [
    "We are using the automatic reconstructor command, give it an empty workspace to dump the dense model into and give it the directory containing the images to be used for creating the sparse model"
   ]
  },
  {
   "cell_type": "code",
   "execution_count": null,
   "metadata": {},
   "outputs": [],
   "source": [
    "mkdir $workspace\n",
    "\n",
    "colmap automatic_reconstructor \\\n",
    "    --workspace_path $workspace \\\n",
    "    --image_path $input_imgs \\\n",
    "    --sparse 1 \\\n",
    "    --dense 0 \\\n",
    "    --single_camera 1\n",
    "\n",
    "# dense -> 0 to avoid double work, we want more control over the process of turning sparse into a dense model\n",
    "# single_camera -> only one camera is used"
   ]
  },
  {
   "cell_type": "code",
   "execution_count": null,
   "metadata": {},
   "outputs": [],
   "source": [
    "## Convert results to txt files (optional)\n",
    "\n",
    "mkdir $workspace/out_dense\n",
    "\n",
    "colmap model_converter --input_path $workspace/sparse/0 \\\n",
    "    --output_path $workspace/sparse_txt/0 \\\n",
    "    --output_type TXT"
   ]
  },
  {
   "cell_type": "markdown",
   "metadata": {},
   "source": [
    "### Align model orientation -> axis is more logical"
   ]
  },
  {
   "cell_type": "markdown",
   "metadata": {},
   "source": [
    "##### Sparse model"
   ]
  },
  {
   "cell_type": "code",
   "execution_count": null,
   "metadata": {
    "vscode": {
     "languageId": "plaintext"
    }
   },
   "outputs": [],
   "source": [
    "!mkdir ../assets/workspace/sparse_aligned\n",
    "\n",
    "!colmap model_orientation_aligner \\\n",
    "        --input_path ../assets/workspace/sparse/0 \\\n",
    "        --output_path ../assets/workspace/sparse_aligned \\\n",
    "        --image_path ../assets/undistorted_05_short/\n",
    "        --method MANHATTAN-WORLD\n",
    "\n",
    "# I tried the IMAGE-ORIENTATION method aswel but it doesn't work very well\n",
    "# Colmap has a weird quirk where the Y-axis points downwards. This is by design appearantly.\n",
    "# https://medium.com/red-buffer/mastering-3d-spaces-a-comprehensive-guide-to-coordinate-system-conversions-in-opencv-colmap-ef7a1b32f2df"
   ]
  },
  {
   "cell_type": "code",
   "execution_count": 4,
   "metadata": {},
   "outputs": [],
   "source": [
    "# Convert results to txt files (optional)\n",
    "!mkdir ../assets/workspace/sparse_aligned_man_txt\n",
    "!colmap model_converter --input_path $workspace/sparse_aligned_man --output_path $workspace/sparse_aligned_man_txt --output_type TXT"
   ]
  },
  {
   "cell_type": "markdown",
   "metadata": {},
   "source": [
    "##### Dense model"
   ]
  },
  {
   "cell_type": "code",
   "execution_count": null,
   "metadata": {
    "vscode": {
     "languageId": "plaintext"
    }
   },
   "outputs": [],
   "source": [
    "\"\"\"!mkdir ../assets/workspace/out_dense\n",
    "\n",
    "!colmap model_orientation_aligner --input_path ../assets/workspace/dense/sparse --output_path ../assets/workspace/out_dense --image_path ../assets/workspace/dense/images\n",
    "\"\"\""
   ]
  },
  {
   "cell_type": "markdown",
   "metadata": {},
   "source": [
    "ToDo: add explenation here of how to open rotated pointclouds in colmap"
   ]
  },
  {
   "cell_type": "markdown",
   "metadata": {},
   "source": [
    "### Create dense model"
   ]
  },
  {
   "cell_type": "code",
   "execution_count": null,
   "metadata": {
    "vscode": {
     "languageId": "plaintext"
    }
   },
   "outputs": [],
   "source": [
    "# todo: Add CLI-commands here\n",
    "\n",
    "!colmap image_undistorter --help\n",
    "!colmap patch_match_stereo --help\n",
    "!colmap stereo_fusion --help"
   ]
  },
  {
   "cell_type": "code",
   "execution_count": null,
   "metadata": {},
   "outputs": [],
   "source": [
    "colmap image_undistorter \\\n",
    "    --image_path ../assets/undistorted_05_short/ \\\n",
    "    --input_path ../assets/workspace/sparse_aligned \\\n",
    "    --output_path ../assets/workspace/dense \\\n",
    "    --output_type COLMAP \\\n",
    "    --max_image_size 2000"
   ]
  },
  {
   "cell_type": "code",
   "execution_count": null,
   "metadata": {},
   "outputs": [],
   "source": [
    "colmap patch_match_stereo \\\n",
    "    --workspace_path ../assets/workspace/dense \\\n",
    "    --workspace_format COLMAP \\\n",
    "    --PatchMatchStereo.geom_consistency true"
   ]
  },
  {
   "cell_type": "code",
   "execution_count": 2,
   "metadata": {},
   "outputs": [],
   "source": [
    "colmap stereo_fusion \\\n",
    "    --workspace_path ../assets/workspace/dense \\\n",
    "    --workspace_format COLMAP \\\n",
    "    --input_type geometric \\\n",
    "    --output_path ../assets/workspace/dense/fused.ply"
   ]
  },
  {
   "cell_type": "code",
   "execution_count": 5,
   "metadata": {},
   "outputs": [],
   "source": [
    "mkdir ../assets/workspace/dense/sparse_txt\n",
    "\n",
    "!colmap model_converter --input_path ../assets/workspace/dense/sparse --output_path ../assets/workspace/dense_txt --output_type TXT"
   ]
  },
  {
   "cell_type": "code",
   "execution_count": 7,
   "metadata": {},
   "outputs": [],
   "source": [
    "!colmap model_converter --input_path ../assets/workspace/dense/0/sparse --output_path ../assets/workspace/dense/0/sparse_txt --output_type TXT"
   ]
  },
  {
   "cell_type": "code",
   "execution_count": null,
   "metadata": {},
   "outputs": [],
   "source": [
    "\n",
    "DATASET_PATH=../assets/workspace_more_points\n",
    "\n",
    "IMG_PATH=../assets/undistorted_0_short\n",
    "\n",
    "colmap feature_extractor \\\n",
    "   --database_path $DATASET_PATH/database.db \\\n",
    "   --image_path $IMG_PATH \\\n",
    "    --SiftExtraction.domain_size_pooling true \\\n",
    "    --SiftExtraction.estimate_affine_shape true \n",
    "\n",
    "colmap exhaustive_matcher \\\n",
    "   --database_path $DATASET_PATH/database.db \\\n",
    "    --SiftMatching.guided_matching true\n",
    "\n",
    "mkdir $DATASET_PATH/sparse\n",
    "\n",
    "colmap mapper \\\n",
    "    --database_path $DATASET_PATH/database.db \\\n",
    "    --image_path $IMG_PATH \\\n",
    "    --output_path $DATASET_PATH/sparse"
   ]
  }
 ],
 "metadata": {
  "kernelspec": {
   "display_name": "Python 3 (ipykernel)",
   "language": "python",
   "name": "python3"
  },
  "language_info": {
   "codemirror_mode": {
    "name": "ipython",
    "version": 3
   },
   "file_extension": ".py",
   "mimetype": "text/x-python",
   "name": "python",
   "nbconvert_exporter": "python",
   "pygments_lexer": "ipython3",
   "version": "3.11.8"
  }
 },
 "nbformat": 4,
 "nbformat_minor": 4
}
