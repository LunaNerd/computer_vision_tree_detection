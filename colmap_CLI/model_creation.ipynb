{
 "cells": [
  {
   "cell_type": "markdown",
   "metadata": {},
   "source": [
    "# Model Creation from CLI"
   ]
  },
  {
   "cell_type": "markdown",
   "metadata": {},
   "source": [
    "README: \n",
    "This has not been tested yet, just an overview of the commands that should work. (I (luna) can't test everything locally because of random crashes and some cuda mismatch preventing me using my GPU)\n",
    "\n",
    "ToDo: Test on jupyterhub  \n",
    "ToDo: Add more explanation"
   ]
  },
  {
   "cell_type": "markdown",
   "metadata": {},
   "source": [
    "## Installation"
   ]
  },
  {
   "cell_type": "markdown",
   "metadata": {},
   "source": [
    "#### (General outline)"
   ]
  },
  {
   "cell_type": "markdown",
   "metadata": {},
   "source": [
    "1. Install colmap\n",
    "    - If on jupyterhub: follow steps on this page: https://colmap.github.io/install.html#linux\n",
    "    - If on windows: download most recent version on this page: https://github.com/colmap/colmap/releases\n",
    "        - select COLMAP-3.9.1-windows-cuda.zip or COLMAP-3.9.1-windows-no-cuda.zip depending on GPU (nvidea works best with CUDA)\n",
    "\n",
    "1. (if on windows) Add system variable:\n",
    "    - https://www.java.com/en/download/help/path.html\n",
    "    - add directory in colmap that contains the COLMAP.bat file\n",
    "\n",
    "1. (if on jupyterhub) ??? ToDo\n"
   ]
  },
  {
   "cell_type": "markdown",
   "metadata": {},
   "source": [
    "#### Copy paste for jupyterhub\n",
    "\n",
    "(request multiple CPU's, speeds up compile process immensely)  \n",
    "Just copy and paste these commands and excecute in the directory where this notebook is located (/project_ghent/something/something/Computervisie-g10/colmap_CLI)"
   ]
  },
  {
   "cell_type": "code",
   "execution_count": null,
   "metadata": {
    "scrolled": true
   },
   "outputs": [],
   "source": [
    "sudo apt-get update\n",
    "\n",
    "sudo apt-get install \\\n",
    "    git \\\n",
    "    cmake \\\n",
    "    ninja-build \\\n",
    "    build-essential \\\n",
    "    libboost-program-options-dev \\\n",
    "    libboost-filesystem-dev \\\n",
    "    libboost-graph-dev \\\n",
    "    libboost-system-dev \\\n",
    "    libeigen3-dev \\\n",
    "    libflann-dev \\\n",
    "    libfreeimage-dev \\\n",
    "    libmetis-dev \\\n",
    "    libgoogle-glog-dev \\\n",
    "    libgtest-dev \\\n",
    "    libsqlite3-dev \\\n",
    "    libglew-dev \\\n",
    "    qtbase5-dev \\\n",
    "    libqt5opengl5-dev \\\n",
    "    libcgal-dev \\\n",
    "    libceres-dev"
   ]
  },
  {
   "cell_type": "code",
   "execution_count": null,
   "metadata": {},
   "outputs": [],
   "source": [
    "nvidia-smi --query-gpu=compute_cap --format=csv\n",
    "\n",
    "# use output of this command in when doing cmake\n",
    "# eg if output is:\n",
    "#     computecap\n",
    "#     6.1\n",
    "# Then insert 61 in the next command\n",
    "# If other result, change accordingly\n",
    "# https://github.com/colmap/colmap/issues/2464"
   ]
  },
  {
   "cell_type": "code",
   "execution_count": null,
   "metadata": {},
   "outputs": [],
   "source": [
    "sudo apt-get install gcc-10 g++-10\n",
    "export CC=/usr/bin/gcc-10\n",
    "export CXX=/usr/bin/g++-10\n",
    "export CUDAHOSTCXX=/usr/bin/g++-10"
   ]
  },
  {
   "cell_type": "code",
   "execution_count": null,
   "metadata": {},
   "outputs": [],
   "source": [
    "#Don't execute\n",
    "\"\"\"sudo apt-get install -y \\\n",
    "    nvidia-cuda-toolkit \\\n",
    "    nvidia-cuda-toolkit-gcc\"\"\""
   ]
  },
  {
   "cell_type": "code",
   "execution_count": null,
   "metadata": {},
   "outputs": [],
   "source": [
    "#Don't execute\n",
    "#sudo cp /opt/conda/lib/libglog.so.2 /usr/lib/x86_64-linux-gnu/libglog.so.2"
   ]
  },
  {
   "cell_type": "code",
   "execution_count": null,
   "metadata": {},
   "outputs": [],
   "source": [
    "git clone https://github.com/colmap/colmap.git\n",
    "cd colmap\n",
    "mkdir build\n",
    "cd build\n",
    "cmake .. -GNinja -DCMAKE_CUDA_ARCHITECTURES=61\n",
    "ninja\n",
    "sudo ninja install -prefix /usr/lib/x86_64-linux-gnu\n",
    "\n",
    "# Takes a long time to run"
   ]
  },
  {
   "cell_type": "code",
   "execution_count": null,
   "metadata": {},
   "outputs": [],
   "source": [
    "colmap --help\n",
    "\n",
    "# should return a list of available commands if everything installed correctly"
   ]
  },
  {
   "cell_type": "markdown",
   "metadata": {},
   "source": [
    "### Create sparse model (not tested yet)"
   ]
  },
  {
   "cell_type": "markdown",
   "metadata": {},
   "source": [
    "We are using the automatic reconstructor command, give it an empty workspace to dump the dense model into and give it the directory containing the images to be used for creating the sparse model"
   ]
  },
  {
   "cell_type": "code",
   "execution_count": null,
   "metadata": {},
   "outputs": [],
   "source": [
    "!mkdir ../assets/workspace\n",
    "\n",
    "# todo: create a command here that copies a set amount of frames from undistorted_05 to other directory to change colmap rendering time\n",
    "\n",
    "!colmap automatic_reconstructor --workspace_path ../assets/workspace --image_path ../assets/undistorted_05_short\n",
    "\n",
    "# todo: add command for converting to binary files in ../assets/workspace/dense to text files"
   ]
  },
  {
   "cell_type": "markdown",
   "metadata": {},
   "source": [
    "### Create dense model"
   ]
  },
  {
   "cell_type": "code",
   "execution_count": null,
   "metadata": {
    "vscode": {
     "languageId": "plaintext"
    }
   },
   "outputs": [],
   "source": [
    "# todo: Add CLI-commands here\n",
    "\n",
    "!colmap image_undistorter --help\n",
    "!colmap patch_match_stereo --help\n",
    "!colmap stereo_fusion --help"
   ]
  },
  {
   "cell_type": "markdown",
   "metadata": {},
   "source": [
    "### Align translate + rotate points to make axis more logical"
   ]
  },
  {
   "cell_type": "markdown",
   "metadata": {},
   "source": [
    "##### Sparse model"
   ]
  },
  {
   "cell_type": "code",
   "execution_count": null,
   "metadata": {
    "vscode": {
     "languageId": "plaintext"
    }
   },
   "outputs": [],
   "source": [
    "!mkdir ../assets/workspace/out\n",
    "\n",
    "!colmap model_orientation_aligner --input_path ../assets/workspace/sparse/0 --output_path ../assets/workspace/out --image_path ..\\assets\\undistorted_05\\"
   ]
  },
  {
   "cell_type": "markdown",
   "metadata": {},
   "source": [
    "##### Dense model"
   ]
  },
  {
   "cell_type": "code",
   "execution_count": null,
   "metadata": {
    "vscode": {
     "languageId": "plaintext"
    }
   },
   "outputs": [],
   "source": [
    "!mkdir ../assets/workspace/out_dense\n",
    "\n",
    "!colmap model_orientation_aligner --input_path ../assets/workspace/dense/sparse --output_path ../assets/workspace/out_dense --image_path ../assets/workspace/dense/images"
   ]
  },
  {
   "cell_type": "markdown",
   "metadata": {},
   "source": [
    "ToDo: add explenation here of how to open rotated pointclouds in colmap"
   ]
  }
 ],
 "metadata": {
  "kernelspec": {
   "display_name": "Python 3 (ipykernel)",
   "language": "python",
   "name": "python3"
  },
  "language_info": {
   "codemirror_mode": {
    "name": "ipython",
    "version": 3
   },
   "file_extension": ".py",
   "mimetype": "text/x-python",
   "name": "python",
   "nbconvert_exporter": "python",
   "pygments_lexer": "ipython3",
   "version": "3.11.8"
  }
 },
 "nbformat": 4,
 "nbformat_minor": 4
}
