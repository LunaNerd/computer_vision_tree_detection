{
 "cells": [
  {
   "cell_type": "markdown",
   "metadata": {},
   "source": [
    "# Model Creation from CLI"
   ]
  },
  {
   "cell_type": "markdown",
   "metadata": {},
   "source": [
    "README: \n",
    "This has not been tested yet, just an overview of the commands that should work. (I (luna) can't test everything locally because of random crashes and some cuda mismatch preventing me using my GPU)\n",
    "\n",
    "ToDo: Test on jupyterhub  \n",
    "ToDo: Add more explanation"
   ]
  },
  {
   "cell_type": "markdown",
   "metadata": {},
   "source": [
    "### Installation"
   ]
  },
  {
   "cell_type": "markdown",
   "metadata": {},
   "source": [
    "1. Install colmap\n",
    "    - If on jupyterhub: follow steps on this page: https://colmap.github.io/install.html#linux\n",
    "    - If on windows: download most recent version on this page: https://github.com/colmap/colmap/releases\n",
    "        - select COLMAP-3.9.1-windows-cuda.zip or COLMAP-3.9.1-windows-no-cuda.zip depending on GPU (nvidea works best with CUDA)\n",
    "\n",
    "1. (if on windows) Add system variable:\n",
    "    - https://www.java.com/en/download/help/path.html\n",
    "    - add directory in colmap that contains the COLMAP.bat file\n",
    "\n",
    "1. (if on jupyterhub) ??? ToDo\n"
   ]
  },
  {
   "cell_type": "markdown",
   "metadata": {},
   "source": [
    "### Create sparse model"
   ]
  },
  {
   "cell_type": "markdown",
   "metadata": {},
   "source": [
    "We are using the automatic reconstructor command, give it an empty workspace to dump the dense model into and give it the directory containing the images to be used for creating the sparse model"
   ]
  },
  {
   "cell_type": "code",
   "execution_count": null,
   "metadata": {},
   "outputs": [],
   "source": [
    "!mkdir ../assets/workspace\n",
    "\n",
    "# todo: create a command here that copies a set amount of frames from undistorted_05 to other directory to change colmap rendering time\n",
    "\n",
    "!colmap automatic_reconstructor --workspace_path ../assets/workspace --image_path ../assets/undistorted_05_short\n",
    "\n",
    "# todo: add command for converting to binary files in ../assets/workspace/dense to text files"
   ]
  },
  {
   "cell_type": "markdown",
   "metadata": {},
   "source": [
    "### Create dense model"
   ]
  },
  {
   "cell_type": "code",
   "execution_count": null,
   "metadata": {
    "vscode": {
     "languageId": "plaintext"
    }
   },
   "outputs": [],
   "source": [
    "# todo: Add CLI-commands here\n",
    "\n",
    "!colmap image_undistorter --help\n",
    "!colmap patch_match_stereo --help\n",
    "!colmap stereo_fusion --help"
   ]
  },
  {
   "cell_type": "markdown",
   "metadata": {},
   "source": [
    "### Align translate + rotate points to make axis more logical"
   ]
  },
  {
   "cell_type": "markdown",
   "metadata": {},
   "source": [
    "##### Sparse model"
   ]
  },
  {
   "cell_type": "code",
   "execution_count": null,
   "metadata": {
    "vscode": {
     "languageId": "plaintext"
    }
   },
   "outputs": [],
   "source": [
    "!mkdir ../assets/workspace/out\n",
    "\n",
    "!colmap model_orientation_aligner --input_path ../assets/workspace/sparse/0 --output_path ../assets/workspace/out --image_path ..\\assets\\undistorted_05\\"
   ]
  },
  {
   "cell_type": "markdown",
   "metadata": {},
   "source": [
    "##### Dense model"
   ]
  },
  {
   "cell_type": "code",
   "execution_count": null,
   "metadata": {
    "vscode": {
     "languageId": "plaintext"
    }
   },
   "outputs": [],
   "source": [
    "!mkdir ../assets/workspace/out_dense\n",
    "\n",
    "!colmap model_orientation_aligner --input_path ../assets/workspace/dense/sparse --output_path ../assets/workspace/out_dense --image_path ../assets/workspace/dense/images"
   ]
  },
  {
   "cell_type": "markdown",
   "metadata": {},
   "source": [
    "ToDo: add explenation here of how to open rotated pointclouds in colmap"
   ]
  }
 ],
 "metadata": {
  "language_info": {
   "name": "python"
  }
 },
 "nbformat": 4,
 "nbformat_minor": 2
}
