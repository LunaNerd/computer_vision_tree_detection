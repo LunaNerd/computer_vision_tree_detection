{
 "cells": [
  {
   "cell_type": "markdown",
   "id": "b4c29f59",
   "metadata": {},
   "source": [
    "# Usefull jupyterlab utility functions\n",
    "\n",
    "- Download file\n",
    "- Check folder size\n",
    "- Create zip file\n",
    "- Unzip file"
   ]
  },
  {
   "cell_type": "code",
   "execution_count": 1,
   "id": "120c3c4a-f17d-4464-b37f-3c974b79525a",
   "metadata": {},
   "outputs": [
    {
     "name": "stdout",
     "output_type": "stream",
     "text": [
      "3.11.6 (tags/v3.11.6:8b6ee5b, Oct  2 2023, 14:57:12) [MSC v.1935 64 bit (AMD64)]\n"
     ]
    }
   ],
   "source": [
    "import sys\n",
    "print(sys.version)"
   ]
  },
  {
   "cell_type": "markdown",
   "id": "7d1b8789",
   "metadata": {},
   "source": [
    "### Downloading a file into your juypter notebook environment"
   ]
  },
  {
   "cell_type": "code",
   "execution_count": 9,
   "id": "58844420-067f-47ce-aaef-018cd2725f58",
   "metadata": {},
   "outputs": [
    {
     "name": "stdout",
     "output_type": "stream",
     "text": [
      "Failed to download the file. HTTP Status Code: 401\n"
     ]
    }
   ],
   "source": [
    "import requests\n",
    "\n",
    "# Downloading files from OneDrive requires the file to be shared with everyone\n",
    "# but we cannot select that option, so we need to use credentials to download the file\n",
    "# I have no idea how to do this\n",
    "# So best option for now is downloading the file manually and then uploading it to jupyterlab or google colab\n",
    "\n",
    "# URL of the file you want to download\n",
    "file_url = \"https://ugentbe-my.sharepoint.com/:w:/r/personal/thomas_dirven_ugent_be/Documents/computervisie_g10_shared/test_file_to_download.docx?d=w120e353fe1fa41ccbd9e834b7bff21ac&csf=1&web=1&e=37MRX0\"\n",
    "file_name = \"test_file_to_download.docx\"\n",
    "\n",
    "# Send a GET request to the file URL\n",
    "response = requests.get(file_url)\n",
    "\n",
    "# Check if the request was successful (HTTP status code 200)\n",
    "if response.status_code == 200:\n",
    "    # Open a file in binary write mode\n",
    "    with open(file_name, \"wb\") as file:\n",
    "        # Write the contents of the response to the file\n",
    "        file.write(response.content)\n",
    "    print(f\"File downloaded and saved as '{file_name}'\")\n",
    "else:\n",
    "    print(\"Failed to download the file. HTTP Status Code:\", response.status_code)\n"
   ]
  },
  {
   "cell_type": "markdown",
   "id": "3fddf26b",
   "metadata": {},
   "source": [
    "### Check Folder Size"
   ]
  },
  {
   "cell_type": "code",
   "execution_count": 7,
   "id": "3a6c766d-6939-4c12-92a0-070d6bd4e52a",
   "metadata": {},
   "outputs": [],
   "source": [
    "import os\n",
    "\n",
    "def get_folder_size(folder_path):\n",
    "    total_size = 0\n",
    "    for dirpath, _, filenames in os.walk(folder_path):\n",
    "        for filename in filenames:\n",
    "            file_path = os.path.join(dirpath, filename)\n",
    "            total_size += os.path.getsize(file_path)\n",
    "    return total_size\n",
    "\n",
    "def bytes_to_gb(size_in_bytes):\n",
    "    return size_in_bytes / (1024 ** 3)"
   ]
  },
  {
   "cell_type": "code",
   "execution_count": 8,
   "id": "cfdaf86d-12d3-4a14-894b-b3fce8a94699",
   "metadata": {},
   "outputs": [
    {
     "name": "stdout",
     "output_type": "stream",
     "text": [
      "Folder size: 349466645 bytes\n",
      "Folder size: 0.32546617556363344 GB\n"
     ]
    }
   ],
   "source": [
    "folder_path = './assets/extracted_30/calibration/'\n",
    "\n",
    "folder_size = get_folder_size(folder_path)\n",
    "print(\"Folder size:\", folder_size, \"bytes\")\n",
    "\n",
    "folder_size_gb = bytes_to_gb(folder_size)\n",
    "print(\"Folder size:\", folder_size_gb, \"GB\")"
   ]
  },
  {
   "cell_type": "markdown",
   "id": "aa44809d",
   "metadata": {},
   "source": [
    "### Creating a zip file"
   ]
  },
  {
   "cell_type": "code",
   "execution_count": 1,
   "id": "e1c87531-bdf9-4640-85b4-a714d312511f",
   "metadata": {},
   "outputs": [],
   "source": [
    "# Create zip file\n",
    "\n",
    "import shutil\n",
    "\n",
    "def zip_directory(folder_path, output_filename):\n",
    "    # The root_dir argument specifies the directory to archive.\n",
    "    # The base_name argument specifies the name of the output file.\n",
    "    shutil.make_archive(output_filename, 'zip', root_dir=folder_path)"
   ]
  },
  {
   "cell_type": "code",
   "execution_count": 2,
   "id": "1f4da099-93b3-4adb-8ba9-45467b5b8214",
   "metadata": {},
   "outputs": [],
   "source": [
    "folder_path = './assets/annotated_05'  # replace with the path to your folder\n",
    "output_filename = 'annotated_05'  # the .zip extension is added automatically\n",
    "zip_directory(folder_path, output_filename)"
   ]
  },
  {
   "cell_type": "code",
   "execution_count": null,
   "id": "087a69a8",
   "metadata": {},
   "outputs": [],
   "source": [
    "folder_path = './assets/undistorted_05'  # replace with the path to your folder\n",
    "output_filename = 'undistorted_05'  # the .zip extension is added automatically\n",
    "zip_directory(folder_path, output_filename)"
   ]
  },
  {
   "cell_type": "markdown",
   "id": "78498356",
   "metadata": {},
   "source": [
    "### Unzipping a file *\n",
    "\n",
    "\\* only for notebooks running on linux system like juypterlab / google colab / ..."
   ]
  },
  {
   "cell_type": "code",
   "execution_count": 5,
   "id": "1f223dff-5d5b-4b4e-a485-ef5db0443cb1",
   "metadata": {},
   "outputs": [],
   "source": [
    "!mkdir ./assets/annotated_05"
   ]
  },
  {
   "cell_type": "code",
   "execution_count": 1,
   "id": "bd3216a2-c2d8-4341-a906-5ab9cdfb7c79",
   "metadata": {},
   "outputs": [],
   "source": [
    "!unzip ./assets/annotated_05.zip -d ./assets/annotated_05"
   ]
  }
 ],
 "metadata": {
  "kernelspec": {
   "display_name": "Python 3 (ipykernel)",
   "language": "python",
   "name": "python3"
  },
  "language_info": {
   "codemirror_mode": {
    "name": "ipython",
    "version": 3
   },
   "file_extension": ".py",
   "mimetype": "text/x-python",
   "name": "python",
   "nbconvert_exporter": "python",
   "pygments_lexer": "ipython3",
   "version": "3.11.6"
  }
 },
 "nbformat": 4,
 "nbformat_minor": 5
}
